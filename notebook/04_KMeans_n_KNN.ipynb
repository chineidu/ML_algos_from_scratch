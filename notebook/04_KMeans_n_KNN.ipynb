{
 "cells": [
  {
   "attachments": {},
   "cell_type": "markdown",
   "metadata": {},
   "source": [
    "# K Means \n",
    "\n",
    "* KMeans is an unsupervised machine learning method that clusters data into `k` different clusters.\n",
    "* Each sample is assigned to the cluster with the nearest mean, and then the means (centroids) are clustered and updated during an iterative optimization process.\n",
    "\n",
    "<br>\n",
    "\n",
    "[![image.png](https://i.postimg.cc/FFJYDW4y/image.png)](https://postimg.cc/K4xcY54j)"
   ]
  },
  {
   "cell_type": "code",
   "execution_count": 1,
   "metadata": {},
   "outputs": [],
   "source": [
    "from typing import Any, Optional, Union\n",
    "\n",
    "import numpy as np\n",
    "import numpy.typing as npt\n",
    "import matplotlib.pyplot as plt\n",
    "from sklearn.model_selection import train_test_split\n",
    "from sklearn.datasets import make_blobs\n",
    "\n",
    "from run_algos import utils\n",
    "\n",
    "\n",
    "# Black code formatter (Optional)\n",
    "%load_ext lab_black"
   ]
  },
  {
   "attachments": {},
   "cell_type": "markdown",
   "metadata": {},
   "source": [
    "## Steps Required To Build KMeans From Scratch\n",
    "\n",
    "* Initialize the centers of the clusters randomly.\n",
    "* Repeat the following steps until the clusters converge (i.e the centroids of the clusters are no longer changing)\n",
    "  * Update the cluster labels: assign points to the nearest cluster's centroid.\n",
    "  * Update the cluster's centroids: set the new center of the mean of each cluster.\n",
    "\n",
    "\n",
    "### Eucledean Distance (d(a, b))\n",
    "\n",
    "$$d(a, b) = \\sqrt{\\sum_{i}^N{(a_{i} - b_{i}) ^2}}$$\n",
    "\n",
    "### 1. Init\n",
    "\n",
    "- Initialize the hyperparameters:\n",
    "  - Number of clusters\n",
    "  - Maximum number of iterations.\n",
    "  - The centroids\n",
    "\n",
    "\n",
    "### 2. Fit \n",
    "\n",
    "- Initialize the centroids randomly.\n",
    "- Initialize the parameters required for calculations.\n",
    "\n",
    "### 3. Predict\n",
    "\n",
    "- Update the labels by assigning the nearest centroid to the data points using the `Eucledean` distance or any distance metric.\n",
    "  - Create clusters.\n",
    "- Re-calculate the centroids. i.e calculate the average position of the labels in the cluster.\n",
    "- Check for divergence. i.e using a distance metric (Eucledean distance), check that the centroids are no longer changing.\n",
    "- The algorithm can also be stopped if the num of iterations (max_iter) has been reached."
   ]
  },
  {
   "cell_type": "code",
   "execution_count": 2,
   "metadata": {},
   "outputs": [],
   "source": [
    "Array = npt.NDArray[Union[np.int_, np.float_]]\n",
    "\n",
    "\n",
    "class KMeans:\n",
    "    \"\"\"This class is used for creating K-clusters from scratch.\"\"\"\n",
    "\n",
    "    def __init__(\n",
    "        self, K: int = 5, max_iters: int = 300, plot_steps: bool = False\n",
    "    ) -> None:\n",
    "        self.K = K\n",
    "        self.max_iters = max_iters\n",
    "        self.plot_steps = plot_steps\n",
    "        self.clusters = [[] for _ in np.arange(self.K)]\n",
    "        self.centroids = None\n",
    "\n",
    "    def __repr__(self) -> str:\n",
    "        return f\"{self.__class__.__name__}(K={self.K}, max_iters={self.max_iters})\"\n",
    "\n",
    "    def fit(self, X: Optional[Array], y: Optional[Array] = None) -> None:\n",
    "        \"\"\"This is used to train the model.\"\"\"\n",
    "        self.X = X.copy()\n",
    "        self.n_samples, self.n_features = X.shape\n",
    "\n",
    "        # Init centroids randomly\n",
    "        random_idxs = np.random.choice(self.n_samples, self.K, replace=False)\n",
    "        self.centroids = [self.X[idx] for idx in random_idxs]\n",
    "\n",
    "        # Optimize the algorithm:\n",
    "        # 1: Create clusters by assigning the samples to the closest centroid.\n",
    "        # 2: Update the centroids and compare the new and old centroids\n",
    "        # 3: Check if the algorithm has converged. i.e whether the centroids\n",
    "        # are still changing.\n",
    "        self.n_iter_ = 1\n",
    "\n",
    "        for idx in np.arange(self.max_iters):\n",
    "            # 1\n",
    "            self.clusters = self._create_clusters(self.centroids)\n",
    "\n",
    "            if self.plot_steps:\n",
    "                self._plot()\n",
    "            # 2\n",
    "            old_centroids = self.centroids\n",
    "            self.centroids = self._get_centroids(self.clusters)\n",
    "\n",
    "            # 3\n",
    "            if self._is_converged(self.centroids, old_centroids):\n",
    "                break\n",
    "            self.n_iter_ += idx\n",
    "\n",
    "            if self.plot_steps:\n",
    "                self._plot()\n",
    "        return self\n",
    "\n",
    "    def predict(\n",
    "        self, X: Optional[Array], y: Optional[Array] = None\n",
    "    ) -> npt.NDArray[np.int_]:\n",
    "        \"\"\"This is used to classify the labels of the samples.\"\"\"\n",
    "        return self._get_cluster_labels(self.clusters)\n",
    "\n",
    "    def fit_predict(\n",
    "        self, X: Optional[Array], y: Optional[Array] = None\n",
    "    ) -> npt.NDArray[np.int_]:\n",
    "        \"\"\"This is used to train and make predictions.\"\"\"\n",
    "        self.fit(X, y)\n",
    "        return self.predict(X, y)\n",
    "\n",
    "    def _create_clusters(self, centroids: list[int]):\n",
    "        \"\"\"This is used to create new clusters by assigning the\n",
    "        samples to the closest centroid.\n",
    "\n",
    "        Params:\n",
    "            centroids (list[int]): A list containing the indices.\n",
    "        \"\"\"\n",
    "        self.clusters = [[] for _ in np.arange(self.K)]\n",
    "\n",
    "        # For each data point/sample, calculate the nearest centroid (n_centroid)\n",
    "        # to that sample and assign the sample to n_centroid and store in the\n",
    "        # list of clusters.\n",
    "        for idx, sample in enumerate(self.X):\n",
    "            centroid_idx = self._get_nearest_centroid(sample, centroids)\n",
    "            self.clusters[centroid_idx].append(idx)\n",
    "        return self.clusters\n",
    "\n",
    "    def _get_centroids(self, clusters: list[list[int]]):\n",
    "        \"\"\"This is used to calculate the mean position of each cluster.\n",
    "        i.e. calculate the mean position of all the data points w/in each cluster.\n",
    "\n",
    "        Params:\n",
    "            clusters (list[list[int]]): This is a list containing the clusters.\n",
    "        \"\"\"\n",
    "        # Matrix (K, n_feature)\n",
    "        centroids = np.zeros(shape=(self.K, self.n_features))\n",
    "\n",
    "        for cluster_idx, _cluster in enumerate(clusters):\n",
    "            cluster_mean = np.mean(self.X[_cluster], axis=0)\n",
    "            centroids[cluster_idx] = cluster_mean\n",
    "        return centroids\n",
    "\n",
    "    def _is_converged(self, centroids: list[int], old_centroids: list[int]) -> bool:\n",
    "        \"\"\"This checks whether the centroids are changing or not.\n",
    "\n",
    "        Args:\n",
    "            centroids (list[int]): A list containing the indices of the current centroids.\n",
    "            old_centroids (list[int]): A list containing the indices of the previous centroids.\n",
    "\n",
    "        Returns:\n",
    "            bool: True if the centroids are not changing otherwise False.\n",
    "        \"\"\"\n",
    "        # Compare the centroids\n",
    "        return np.array_equal(centroids, old_centroids)\n",
    "\n",
    "    def _get_cluster_labels(self, clusters: list[list[int]]) -> npt.NDArray[np.int_]:\n",
    "        \"\"\"This returns the labels of the clusters that have been assigned\n",
    "        to each cluster.\"\"\"\n",
    "        labels = np.empty(shape=(self.n_samples))\n",
    "\n",
    "        for cluster_idx, cluster in enumerate(clusters):\n",
    "            for sample_idx in cluster:\n",
    "                labels[sample_idx] = cluster_idx\n",
    "        return labels\n",
    "\n",
    "    @staticmethod\n",
    "    def _calculate_euclidean_distance(*, point_a: float, point_b: float) -> float:\n",
    "        \"\"\"This returns the Euclidean distance between 2 points.\"\"\"\n",
    "        return np.sqrt(np.sum(np.square(point_a - point_b)))\n",
    "\n",
    "    def _get_nearest_centroid(self, sample, centroids: list[int]) -> int:\n",
    "        \"\"\"This returns the nearest centroid to a sample/data point.\"\"\"\n",
    "        # Calculate the distance of the sample from each centroid\n",
    "        # and select the centroid with the min. distance\n",
    "        distances = [\n",
    "            self._calculate_euclidean_distance(point_a=sample, point_b=_centr)\n",
    "            for _centr in centroids\n",
    "        ]\n",
    "        closest_centroid = np.argmin(distances)\n",
    "        return closest_centroid\n",
    "\n",
    "    def _plot(self) -> None:\n",
    "        \"\"\"This is used to visualize the clusters and the labels during\n",
    "        the optimization process of the algorithm.\"\"\"\n",
    "\n",
    "        fig, ax = plt.subplots(figsize=(12, 8))\n",
    "\n",
    "        for _cluster in self.clusters:\n",
    "            point = self.X[_cluster].T\n",
    "            ax.scatter(*point)\n",
    "\n",
    "        for point in self.centroids:\n",
    "            ax.scatter(*point, marker=\"x\", color=\"k\", linewidths=5)\n",
    "\n",
    "        fig.get_tight_layout()\n",
    "        plt.show()"
   ]
  },
  {
   "cell_type": "code",
   "execution_count": 3,
   "metadata": {},
   "outputs": [
    {
     "data": {
      "text/plain": [
       "array([[-4.01445014,  1.19199196],\n",
       "       [ 3.58638619, -3.1117074 ],\n",
       "       [ 7.50758802,  0.41146309]])"
      ]
     },
     "execution_count": 3,
     "metadata": {},
     "output_type": "execute_result"
    }
   ],
   "source": [
    "CENTERS = 3\n",
    "N_SAMPLES, N_FEATURES = 500, 2\n",
    "NOISE, RANDOM_STATE = 3.5, 123\n",
    "\n",
    "\n",
    "X, y = make_blobs(\n",
    "    n_samples=N_SAMPLES,\n",
    "    n_features=N_FEATURES,\n",
    "    centers=CENTERS,\n",
    "    cluster_std=NOISE,\n",
    "    random_state=RANDOM_STATE,\n",
    ")\n",
    "\n",
    "X[:3]"
   ]
  },
  {
   "cell_type": "code",
   "execution_count": 4,
   "metadata": {},
   "outputs": [],
   "source": [
    "kmeans = KMeans(K=3, plot_steps=False)\n",
    "# kmeans.fit(X)\n",
    "y_pred = kmeans.fit_predict(X)"
   ]
  },
  {
   "cell_type": "code",
   "execution_count": 5,
   "metadata": {},
   "outputs": [
    {
     "data": {
      "text/plain": [
       "352"
      ]
     },
     "execution_count": 5,
     "metadata": {},
     "output_type": "execute_result"
    }
   ],
   "source": [
    "kmeans.n_iter_"
   ]
  },
  {
   "cell_type": "code",
   "execution_count": 6,
   "metadata": {},
   "outputs": [
    {
     "data": {
      "text/plain": [
       "array([[1.4115e-320, 7.7771e-320],\n",
       "       [5.3359e-321, 9.5572e-320],\n",
       "       [2.8547e-320, 2.8547e-320],\n",
       "       [9.5572e-320, 5.3359e-321],\n",
       "       [7.7771e-320, 1.4115e-320]])"
      ]
     },
     "execution_count": 6,
     "metadata": {},
     "output_type": "execute_result"
    }
   ],
   "source": [
    "np.empty(shape=(5, 2))"
   ]
  },
  {
   "cell_type": "code",
   "execution_count": null,
   "metadata": {},
   "outputs": [],
   "source": []
  },
  {
   "cell_type": "code",
   "execution_count": 7,
   "metadata": {},
   "outputs": [
    {
     "data": {
      "text/plain": [
       "True"
      ]
     },
     "execution_count": 7,
     "metadata": {},
     "output_type": "execute_result"
    }
   ],
   "source": [
    "new, old = kmeans.centroids, kmeans.centroids\n",
    "\n",
    "kmeans._is_converged(new, old)"
   ]
  },
  {
   "cell_type": "code",
   "execution_count": 8,
   "metadata": {},
   "outputs": [
    {
     "data": {
      "text/plain": [
       "[0.0, 0.0, 0.0]"
      ]
     },
     "execution_count": 8,
     "metadata": {},
     "output_type": "execute_result"
    }
   ],
   "source": [
    "distances = [\n",
    "    KMeans._calculate_euclidean_distance(point_a=new[i], point_b=old[i])\n",
    "    for i in range(3)\n",
    "]\n",
    "distances"
   ]
  },
  {
   "cell_type": "code",
   "execution_count": null,
   "metadata": {},
   "outputs": [],
   "source": []
  },
  {
   "cell_type": "code",
   "execution_count": null,
   "metadata": {},
   "outputs": [],
   "source": []
  }
 ],
 "metadata": {
  "kernelspec": {
   "display_name": "venv",
   "language": "python",
   "name": "python3"
  },
  "language_info": {
   "codemirror_mode": {
    "name": "ipython",
    "version": 3
   },
   "file_extension": ".py",
   "mimetype": "text/x-python",
   "name": "python",
   "nbconvert_exporter": "python",
   "pygments_lexer": "ipython3",
   "version": "3.10.8"
  },
  "orig_nbformat": 4
 },
 "nbformat": 4,
 "nbformat_minor": 2
}
