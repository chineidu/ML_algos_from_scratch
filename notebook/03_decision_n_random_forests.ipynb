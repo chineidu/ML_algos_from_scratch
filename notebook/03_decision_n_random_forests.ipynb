{
 "cells": [
  {
   "attachments": {},
   "cell_type": "markdown",
   "metadata": {},
   "source": [
    "# Classification Algorithms Using Trees\n",
    "\n",
    "## Decision Trees (From Scratch)\n"
   ]
  },
  {
   "cell_type": "code",
   "execution_count": 1,
   "metadata": {},
   "outputs": [],
   "source": [
    "import numpy as np\n",
    "from sklearn.model_selection import train_test_split\n",
    "\n",
    "from run_algos import utils\n",
    "\n",
    "\n",
    "# Black code formatter (Optional)\n",
    "%load_ext lab_black"
   ]
  },
  {
   "attachments": {},
   "cell_type": "markdown",
   "metadata": {},
   "source": [
    "## Decision Trees\n",
    "\n",
    "[![image.png](https://i.postimg.cc/RCDcYtgh/image.png)](https://postimg.cc/5j8YYXdW)\n",
    "\n",
    "<br>\n",
    "\n",
    "[Source](https://www.youtube.com/watch?v=NxEHSAfFlK8&t=287)\n",
    "\n",
    "<br>\n",
    "\n",
    "[![image.png](https://i.postimg.cc/nVBF8bkm/image.png)](https://postimg.cc/vD8F9KC8)\n",
    "\n",
    "\n",
    "### Decisions To Be Made\n",
    "\n",
    "1. **Split feature**: Which feature should be used for the splitting?\n",
    "2. **Split point**: At what point in a numerical variable should we split?\n",
    "3. **When to stop splitting**: When you should you stop splitting to avoid trees from growing so big?\n",
    "\n",
    "### Steps\n",
    "\n",
    "> The following steps are used to build the Decision Tree classifier from scratch.\n",
    "\n",
    "#### Training\n",
    "Given the entire dataset:\n",
    "1. Calculate the information gain with each possible split.\n",
    "2. Divide the data with the feature and the value threshold (if it's numerical) that gives the most information gain.\n",
    "3. The result from step 2 is used to create the branches.\n",
    "4. Repeat steps 1 thru 3 until a stopping criteria is reached.\n",
    "\n",
    "#### Making Predictions\n",
    "Given a data point:\n",
    "\n",
    "1. Traverse the tree until you reach a leaf node.\n",
    "2. Return the most common class label i.e (if a leaf node is pure, return the class label otherwise, return a majority vote)\n",
    "\n",
    "\n",
    "#### Important Terms\n",
    "\n",
    "* Entropy: This refers to how much variance the data has. i.e. it measures how random or unpredictable a node is. The entropy is largest when a node has 50% of both classes (e.g. a binary class)\n",
    "\n",
    "$$\n",
    "E = - \\sum^C_{i=1}(p_{i}*log_{2}(p_{i}))\n",
    "$$\n",
    "\n",
    "where:\n",
    "\n",
    "$p_{i}$ is the probability of randomly picking an element of $class_{i}$ .\n",
    "\n",
    "$C$ is the total number of classes. For a binary problem, $C = 2$. i.e $C_{unique} = [0, 1]$\n",
    "\n",
    "\n",
    "* **Information Gain (IG)**: This measures the quality of the splits. i.e. it measures how much entropy was removed by splitting on a feature.\n",
    "\n",
    "$$\n",
    "IG = E_{parent} - (weighted average) * E_{children}\n",
    "$$\n",
    "\n",
    "### Stopping Criteria\n",
    "\n",
    "1. **Maximum depth**: This refers to how deep you want the tree to grow.\n",
    "2. **Minimum no of samples**: Refers to the minimum number of samples a node can have before splitting can take place.\n",
    "3. **Minimum impurity decrease**: Refers to the minimum entropy change required for a split to take place."
   ]
  },
  {
   "cell_type": "code",
   "execution_count": null,
   "metadata": {},
   "outputs": [],
   "source": []
  },
  {
   "cell_type": "code",
   "execution_count": null,
   "metadata": {},
   "outputs": [],
   "source": []
  },
  {
   "cell_type": "code",
   "execution_count": null,
   "metadata": {},
   "outputs": [],
   "source": []
  },
  {
   "cell_type": "code",
   "execution_count": null,
   "metadata": {},
   "outputs": [],
   "source": []
  },
  {
   "cell_type": "code",
   "execution_count": null,
   "metadata": {},
   "outputs": [],
   "source": []
  },
  {
   "cell_type": "code",
   "execution_count": null,
   "metadata": {},
   "outputs": [],
   "source": []
  },
  {
   "cell_type": "code",
   "execution_count": null,
   "metadata": {},
   "outputs": [],
   "source": []
  },
  {
   "cell_type": "code",
   "execution_count": null,
   "metadata": {},
   "outputs": [],
   "source": []
  },
  {
   "cell_type": "code",
   "execution_count": null,
   "metadata": {},
   "outputs": [],
   "source": []
  },
  {
   "cell_type": "code",
   "execution_count": null,
   "metadata": {},
   "outputs": [],
   "source": []
  }
 ],
 "metadata": {
  "kernelspec": {
   "display_name": "venv",
   "language": "python",
   "name": "python3"
  },
  "language_info": {
   "codemirror_mode": {
    "name": "ipython",
    "version": 3
   },
   "file_extension": ".py",
   "mimetype": "text/x-python",
   "name": "python",
   "nbconvert_exporter": "python",
   "pygments_lexer": "ipython3",
   "version": "3.10.8"
  },
  "orig_nbformat": 4,
  "vscode": {
   "interpreter": {
    "hash": "6cfa5e2e7f6473d0731a0f2d805e3c50a81965be55a72eefbad345a8551b801f"
   }
  }
 },
 "nbformat": 4,
 "nbformat_minor": 2
}
