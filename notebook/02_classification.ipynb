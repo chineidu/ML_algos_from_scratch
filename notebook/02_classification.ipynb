{
 "cells": [
  {
   "attachments": {},
   "cell_type": "markdown",
   "metadata": {},
   "source": [
    "## Naive Bayes From Scratch\n",
    "\n",
    "* `Naive Bayes` Algorithm is based on the `Bayes` Theorem which states that the probability of A given B equals the probability of B given A multiplied by probability of A divided by probability of B. i.e\n",
    "\n",
    "$$\n",
    "p(A | B) = \\frac{p(B | A). p(A)}{p(B)}\n",
    "$$\n",
    "\n",
    "* Applying Bayes' Theorem to ML, we have:\n",
    "\n",
    "$$\n",
    "p(y | X) = \\frac{p(X | y). p(y)}{p(X)}\n",
    "$$\n",
    "\n",
    "where:\n",
    "  * $p(y | X)$: Posterior probability\n",
    "  * $p(X | y)$: Class-conditional probability\n",
    "  * $p(y)$: Prior probability of y\n",
    "  * $p(X)$: Prior probability of X\n",
    "\n",
    "### Note:\n",
    "  \n",
    "```python\n",
    "Posterior_probability = Class_conditional_probability + Prior_probability_y\n",
    "```\n",
    "\n",
    "* It's a `naive` algorithm because it assumes that the features are mutually independent (which might not be true).\n",
    "* Expanding Bayes' theorem yields:\n",
    "\n",
    "$$\n",
    "p(y | X) = \\frac{p(x_{1} | y).p(x_{2} | y)...p(x_{n} | y). p(y)}{p(X)}\n",
    "$$\n",
    "\n",
    "* Since p(X) does NOT depend on `y`, we can drop it.\n",
    "* In order to determine `y`, we need to find the argmax of the posterior. i.e\n",
    "  \n",
    "$$\n",
    "p(y | X) = argmax(p(x_{1} | y).p(x_{2} | y)...p(x_{n} | y). p(y))\n",
    "$$\n",
    "\n",
    "* Since the product of the probabilities will yield a very small value (very close 0), we need to find the `log` of the posterior so that we avoid overflow error. \n",
    "\n",
    "$$\n",
    "p(y | X) = argmax(logp(x_{1} | y) + logp(x_{2} | y) + ... + logp(x_{n} | y) + logp(y))\n",
    "$$\n",
    "\n",
    "* Log of the conditional probability can be modelled using a `Probability Density Function`.\n",
    "\n",
    "$$\n",
    "p(X | y) = (\\frac{\\exp({- \\frac{(x_{i} - \\mu_{y})^2}{2\\sigma_{y}^2}})}{\\sqrt{2\\pi\\sigma_{y}^2}})\n",
    "$$\n",
    "\n",
    "where:\n",
    "  * $\\mu_{y}$ is the mean given a class. i.e when class=0 or 1.\n",
    "  * $\\sigma_{y}^2$: is the variance given a class. i.e when class=0 or 1.\n",
    "\n",
    "* Therefore, `y` is:\n",
    "\n",
    "$$\n",
    "y = argmax({\\sum_{i=1}^{N}{log(\\frac{\\exp({-\\frac{(x_{i} - \\mu_{y})^2}{2\\sigma_{y}^2}})}{\\sqrt{2\\pi\\sigma_{y}^2}}) + log(p(y))}})\n",
    "$$\n",
    "\n",
    "* Since we have a binary class, for each input, the index of the value that produces the highest probability (argmax) is the the predicted value of `y`."
   ]
  },
  {
   "cell_type": "code",
   "execution_count": 1,
   "metadata": {},
   "outputs": [],
   "source": [
    "import numpy as np\n",
    "from sklearn.model_selection import train_test_split\n",
    "\n",
    "from run_algos import utils\n",
    "\n",
    "\n",
    "# Black code formatter (Optional)\n",
    "%load_ext lab_black"
   ]
  },
  {
   "attachments": {},
   "cell_type": "markdown",
   "metadata": {},
   "source": [
    "### Steps\n",
    "\n",
    "> The following steps are used to build the Naive Bayes' classifier from scratch.\n",
    "\n",
    "#### Training\n",
    "Given the entire dataset:\n",
    "1. Initialize the variables. Since we're modelling the class conditional probabilities using a **`probability density function`**, we need to calculate values for:\n",
    "   * Priors of the class labels.\n",
    "   * Means of the features given the class label.\n",
    "   * Variances of the features given the class label.\n",
    "\n",
    "#### Making Predictions\n",
    "Given a data point:\n",
    "\n",
    "2. Make prediction by finding the **`argmax`** of the `log posterior` which was modelled using `pdf`.\n",
    "\n",
    "<hr>"
   ]
  },
  {
   "cell_type": "code",
   "execution_count": 2,
   "metadata": {},
   "outputs": [],
   "source": [
    "class NaiveBayes:\n",
    "    def __init__(self) -> None:\n",
    "        self.means = None\n",
    "        self.variances = None\n",
    "        self.priors = None\n",
    "        self.K = None\n",
    "        self.n_K = None\n",
    "\n",
    "    def __repr__(self) -> str:\n",
    "        return (\n",
    "            f\"{self.__class__.__name__}(n_classes={self.n_K!r}, prior={self.priors!r})\"\n",
    "        )\n",
    "\n",
    "    def fit(self, X: np.ndarray, y: np.ndarray) -> None:\n",
    "        \"\"\"This is used for training the model.\"\"\"\n",
    "        # Init the parameters\n",
    "        n_samples, n_features = X.shape\n",
    "        self.K = np.unique(y)\n",
    "        self.n_K = len(self.K)\n",
    "\n",
    "        # Init params for the classes. i.e if k is 2 then, k=0 or 1\n",
    "        self.means = np.zeros((self.n_K, n_features))  # Matrix\n",
    "        self.variances = np.zeros((self.n_K, n_features))  # Matrix\n",
    "        self.priors = np.zeros((self.n_K)).reshape(-1, 1)  # Column vector\n",
    "\n",
    "        # Compute the parameters for each class.\n",
    "        # Calculate the mean, variance and priors given each class.\n",
    "        for k in self.K:\n",
    "            X_k = X[k == y]\n",
    "            self.means[k, :] = np.mean(X_k, axis=0)\n",
    "            self.variances[k, :] = np.var(X_k, axis=0)\n",
    "            self.priors[k] = X_k.shape[0] / float(n_samples)\n",
    "        return self\n",
    "\n",
    "    def _predict(self, x: np.ndarray) -> np.ndarray:\n",
    "        \"\"\"This is used for making predictions for a training example.\"\"\"\n",
    "        self.posteriors = []\n",
    "        # Shape of x: (1, n_features)\n",
    "        for k in self.K:\n",
    "            log_prior = np.log(self.priors[k])\n",
    "            posterior = np.sum(np.log(self._prob_density_func(x, k))) + log_prior\n",
    "            self.posteriors.append(posterior)\n",
    "\n",
    "        # This returns : 0 or 1 since the list `posteriors` has a size of 2.\n",
    "        # i.e [posterior_cl_0, posterior_cl_1] and np.argmax returns\n",
    "        # the index that has the maximum value (which is 0 or 1).\n",
    "        return np.argmax(self.posteriors)\n",
    "\n",
    "    def _prob_density_func(self, x: np.ndarray, k: int) -> float:\n",
    "        \"\"\"This is used to calculate the Gaussian Probability Density Function\\n\n",
    "        given the class for a training example. i.e for class=0 or 1\"\"\"\n",
    "        # Shape of x, mean and variance: (1, n_features)\n",
    "        mean, variance = self.means[k], self.variances[k]\n",
    "        numerator = np.exp(-np.square(x - mean) / (2 * variance))\n",
    "        denominator = np.sqrt(2 * np.pi * variance)\n",
    "        return numerator / denominator\n",
    "\n",
    "    def predict(self, X: np.ndarray) -> np.ndarray:\n",
    "        \"\"\"This is used for making predictions for ALL the training examples.\"\"\"\n",
    "        y_pred = [self._predict(x) for x in X]\n",
    "        return np.array(y_pred)"
   ]
  },
  {
   "cell_type": "code",
   "execution_count": null,
   "metadata": {},
   "outputs": [],
   "source": []
  },
  {
   "cell_type": "code",
   "execution_count": 3,
   "metadata": {},
   "outputs": [
    {
     "data": {
      "text/plain": [
       "((1800, 11), (200, 11))"
      ]
     },
     "execution_count": 3,
     "metadata": {},
     "output_type": "execute_result"
    }
   ],
   "source": [
    "X, y = utils.generate_mock_data(type_=\"classification\")\n",
    "\n",
    "# split the data\n",
    "X_train, X_test, y_train, y_test = train_test_split(\n",
    "    X, y, test_size=utils.TEST_SIZE, random_state=utils.RANDOM_STATE\n",
    ")\n",
    "\n",
    "X_train.shape, X_test.shape"
   ]
  },
  {
   "cell_type": "code",
   "execution_count": 4,
   "metadata": {},
   "outputs": [
    {
     "data": {
      "text/plain": [
       "NaiveBayes(n_classes=2, prior=array([[0.49944444],\n",
       "       [0.50055556]]))"
      ]
     },
     "execution_count": 4,
     "metadata": {},
     "output_type": "execute_result"
    }
   ],
   "source": [
    "nb = NaiveBayes()\n",
    "nb.fit(X_train, y_train)"
   ]
  },
  {
   "cell_type": "code",
   "execution_count": 5,
   "metadata": {},
   "outputs": [
    {
     "data": {
      "text/plain": [
       "0.94"
      ]
     },
     "execution_count": 5,
     "metadata": {},
     "output_type": "execute_result"
    }
   ],
   "source": [
    "y_pred = nb.predict(X=X_test)\n",
    "\n",
    "np.mean(y_pred == y_test)"
   ]
  },
  {
   "cell_type": "code",
   "execution_count": null,
   "metadata": {},
   "outputs": [],
   "source": []
  },
  {
   "cell_type": "code",
   "execution_count": null,
   "metadata": {},
   "outputs": [],
   "source": []
  }
 ],
 "metadata": {
  "kernelspec": {
   "display_name": "venv",
   "language": "python",
   "name": "python3"
  },
  "language_info": {
   "codemirror_mode": {
    "name": "ipython",
    "version": 3
   },
   "file_extension": ".py",
   "mimetype": "text/x-python",
   "name": "python",
   "nbconvert_exporter": "python",
   "pygments_lexer": "ipython3",
   "version": "3.10.8"
  },
  "orig_nbformat": 4,
  "vscode": {
   "interpreter": {
    "hash": "6cfa5e2e7f6473d0731a0f2d805e3c50a81965be55a72eefbad345a8551b801f"
   }
  }
 },
 "nbformat": 4,
 "nbformat_minor": 2
}
